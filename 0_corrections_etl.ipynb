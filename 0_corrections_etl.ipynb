{
 "cells": [
  {
   "cell_type": "code",
   "execution_count": null,
   "metadata": {},
   "outputs": [],
   "source": [
    "# get corrections\n",
    "import pandas as pd\n",
    "import requests\n",
    "\n",
    "BASE_URL = 'https://www.ecfr.gov'\n",
    "AGENCIES_PATH = '/api/admin/v1/corrections.json'\n",
    "\n",
    "def get_corrections():\n",
    "    url = BASE_URL + AGENCIES_PATH\n",
    "    response = requests.get(url)\n",
    "    response.raise_for_status()\n",
    "    return response.json()\n",
    "\n",
    "corrections = get_corrections()\n",
    "df_corrections = pd.DataFrame(corrections['ecfr_corrections'])\n",
    "df_corrections"
   ]
  },
  {
   "cell_type": "code",
   "execution_count": null,
   "metadata": {},
   "outputs": [],
   "source": [
    "# explode out cfr_references and add keys of cfr_references obj as col names\n",
    "df_corrections_exploded = df_corrections.explode('cfr_references')\n",
    "df_corrections_exploded = pd.concat([df_corrections_exploded, df_corrections_exploded['cfr_references'].apply(pd.Series)], axis=1)\n",
    "df_corrections_exploded = df_corrections_exploded.drop(columns=['cfr_references'])\n",
    "df_corrections_exploded = pd.concat([df_corrections_exploded, df_corrections_exploded['hierarchy'].apply(pd.Series)], axis=1)\n",
    "df_corrections_exploded.to_csv('data/ecfr_corrections.csv', index=False)\n",
    "df_corrections_exploded\n"
   ]
  }
 ],
 "metadata": {
  "kernelspec": {
   "display_name": "regulations-analyzer-wDkv0VDd-py3.10",
   "language": "python",
   "name": "python3"
  },
  "language_info": {
   "codemirror_mode": {
    "name": "ipython",
    "version": 3
   },
   "file_extension": ".py",
   "mimetype": "text/x-python",
   "name": "python",
   "nbconvert_exporter": "python",
   "pygments_lexer": "ipython3",
   "version": "3.10.2"
  }
 },
 "nbformat": 4,
 "nbformat_minor": 2
}
