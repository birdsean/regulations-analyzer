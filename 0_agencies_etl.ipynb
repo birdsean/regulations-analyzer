{
 "cells": [
  {
   "cell_type": "code",
   "execution_count": null,
   "metadata": {},
   "outputs": [],
   "source": [
    "# get agencies\n",
    "import pandas as pd\n",
    "import requests\n",
    "\n",
    "BASE_URL = 'https://www.ecfr.gov'\n",
    "AGENCIES_PATH = '/api/admin/v1/agencies.json'\n",
    "\n",
    "def get_agencies():\n",
    "    url = BASE_URL + AGENCIES_PATH\n",
    "    response = requests.get(url)\n",
    "    if response.status_code == 200:\n",
    "        agencies = response.json()\n",
    "        return agencies\n",
    "    else:\n",
    "        print('Error getting agencies')\n",
    "        return None\n",
    "\n",
    "agencies = get_agencies()\n",
    "df_agencies = pd.DataFrame(agencies['agencies'])\n",
    "df_agencies"
   ]
  },
  {
   "cell_type": "code",
   "execution_count": null,
   "metadata": {},
   "outputs": [],
   "source": [
    "# explode out rows for each cfr_reference, add keys of cfr_references obj as col. example value: [{'title': 1, 'chapter': 'III'}]\n",
    "df_agencies_exploded = df_agencies.explode('cfr_references')\n",
    "df_agencies_exploded = pd.concat([df_agencies_exploded, df_agencies_exploded['cfr_references'].apply(pd.Series)], axis=1)\n",
    "df_agencies_exploded.drop(columns=['cfr_references'], inplace=True)\n",
    "df_agencies_exploded.to_csv('data/ecfr_agencies.csv', index=False)\n",
    "df_agencies_exploded"
   ]
  }
 ],
 "metadata": {
  "kernelspec": {
   "display_name": "regulations-analyzer-wDkv0VDd-py3.10",
   "language": "python",
   "name": "python3"
  },
  "language_info": {
   "codemirror_mode": {
    "name": "ipython",
    "version": 3
   },
   "file_extension": ".py",
   "mimetype": "text/x-python",
   "name": "python",
   "nbconvert_exporter": "python",
   "pygments_lexer": "ipython3",
   "version": "3.10.2"
  }
 },
 "nbformat": 4,
 "nbformat_minor": 2
}
