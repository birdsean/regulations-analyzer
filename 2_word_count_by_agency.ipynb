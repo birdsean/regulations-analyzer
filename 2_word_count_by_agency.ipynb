{
 "cells": [
  {
   "cell_type": "code",
   "execution_count": null,
   "metadata": {},
   "outputs": [],
   "source": [
    "import polars as pl\n",
    "\n",
    "df_agencies = pl.read_csv(\"data/ecfr_agencies.csv\")\n",
    "df_word_count_by_chapter = pl.read_csv(\"data/word_count_by_chapter.csv\")\n",
    "\n",
    "# rename df_agencies title to volume\n",
    "df_agencies = df_agencies.with_columns([\n",
    "    pl.col(\"title\").alias(\"volume\")\n",
    "])\n",
    "\n",
    "# replace all blank vals with \"-\"\n",
    "df_agencies = df_agencies.with_columns([\n",
    "    pl.col(\"subchapter\").fill_null(\"-\").alias(\"subchapter\"),\n",
    "    pl.col(\"part\").fill_null(\"-\").alias(\"part\"),\n",
    "])\n",
    "\n",
    "\n",
    "print(f'cols for df_agencies: {df_agencies.columns}')\n",
    "print(f'cols for df_word_count_by_chapter: {df_word_count_by_chapter.columns}')\n",
    "print(f'column intersection: {set(df_agencies.columns) & set(df_word_count_by_chapter.columns)}')\n",
    "\n",
    "\n",
    "df_joined = df_agencies.join(df_word_count_by_chapter, on=['volume', 'chapter'], how='inner')\n",
    "df_joined.write_csv(\"data/word_count_agency_by_chapter.csv\")\n",
    "df_joined"
   ]
  }
 ],
 "metadata": {
  "kernelspec": {
   "display_name": "regulations-analyzer-wDkv0VDd-py3.10",
   "language": "python",
   "name": "python3"
  },
  "language_info": {
   "codemirror_mode": {
    "name": "ipython",
    "version": 3
   },
   "file_extension": ".py",
   "mimetype": "text/x-python",
   "name": "python",
   "nbconvert_exporter": "python",
   "pygments_lexer": "ipython3",
   "version": "3.10.2"
  }
 },
 "nbformat": 4,
 "nbformat_minor": 2
}
